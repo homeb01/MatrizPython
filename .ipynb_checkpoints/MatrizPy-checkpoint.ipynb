{
 "cells": [
  {
   "cell_type": "code",
   "execution_count": 1,
   "id": "8516693e",
   "metadata": {},
   "outputs": [],
   "source": [
    "import csv\n",
    "import pandas as pd\n",
    "import tkinter as tk\n",
    "import os\n",
    "from tkinter import ttk\n",
    "from tkinter import filedialog as fd\n",
    "from tkinter.messagebox import showinfo"
   ]
  },
  {
   "cell_type": "code",
   "execution_count": null,
   "id": "b7c220cd",
   "metadata": {},
   "outputs": [],
   "source": []
  },
  {
   "cell_type": "code",
   "execution_count": null,
   "id": "e78bcd2b",
   "metadata": {},
   "outputs": [],
   "source": []
  },
  {
   "cell_type": "code",
   "execution_count": 2,
   "id": "60bf0002",
   "metadata": {},
   "outputs": [
    {
     "name": "stderr",
     "output_type": "stream",
     "text": [
      "Exception in Tkinter callback\n",
      "Traceback (most recent call last):\n",
      "  File \"C:\\Users\\homer\\AppData\\Local\\Programs\\Python\\Python310\\lib\\tkinter\\__init__.py\", line 1921, in __call__\n",
      "    return self.func(*args)\n",
      "  File \"C:\\Users\\homer\\AppData\\Local\\Temp\\ipykernel_1600\\2599811578.py\", line 30, in select_file\n",
      "    filename = fd.askopenfilename(\n",
      "  File \"C:\\Users\\homer\\AppData\\Local\\Programs\\Python\\Python310\\lib\\tkinter\\filedialog.py\", line 384, in askopenfilename\n",
      "    return Open(**options).show()\n",
      "  File \"C:\\Users\\homer\\AppData\\Local\\Programs\\Python\\Python310\\lib\\tkinter\\commondialog.py\", line 45, in show\n",
      "    s = master.tk.call(self.command, *master._options(self.options))\n",
      "_tkinter.TclError: bad file type \"*.*\", should be \"typeName {extension ?extensions ...?} ?{macType ?macTypes ...?}?\"\n",
      "Exception in Tkinter callback\n",
      "Traceback (most recent call last):\n",
      "  File \"C:\\Users\\homer\\AppData\\Local\\Programs\\Python\\Python310\\lib\\tkinter\\__init__.py\", line 1921, in __call__\n",
      "    return self.func(*args)\n",
      "  File \"C:\\Users\\homer\\AppData\\Local\\Temp\\ipykernel_1600\\2599811578.py\", line 30, in select_file\n",
      "    filename = fd.askopenfilename(\n",
      "  File \"C:\\Users\\homer\\AppData\\Local\\Programs\\Python\\Python310\\lib\\tkinter\\filedialog.py\", line 384, in askopenfilename\n",
      "    return Open(**options).show()\n",
      "  File \"C:\\Users\\homer\\AppData\\Local\\Programs\\Python\\Python310\\lib\\tkinter\\commondialog.py\", line 45, in show\n",
      "    s = master.tk.call(self.command, *master._options(self.options))\n",
      "_tkinter.TclError: bad file type \"*.*\", should be \"typeName {extension ?extensions ...?} ?{macType ?macTypes ...?}?\"\n"
     ]
    },
    {
     "ename": "FileNotFoundError",
     "evalue": "[Errno 2] No such file or directory: ''",
     "output_type": "error",
     "traceback": [
      "\u001b[1;31m---------------------------------------------------------------------------\u001b[0m",
      "\u001b[1;31mFileNotFoundError\u001b[0m                         Traceback (most recent call last)",
      "Input \u001b[1;32mIn [2]\u001b[0m, in \u001b[0;36m<module>\u001b[1;34m\u001b[0m\n\u001b[0;32m     42\u001b[0m root\u001b[38;5;241m.\u001b[39mmainloop()\n\u001b[0;32m     43\u001b[0m root\u001b[38;5;241m.\u001b[39mquit()\n\u001b[1;32m---> 45\u001b[0m \u001b[38;5;28;01mwith\u001b[39;00m \u001b[38;5;28;43mopen\u001b[39;49m\u001b[43m(\u001b[49m\u001b[43mfilename\u001b[49m\u001b[43m,\u001b[49m\u001b[43m \u001b[49m\u001b[43mnewline\u001b[49m\u001b[43m \u001b[49m\u001b[38;5;241;43m=\u001b[39;49m\u001b[43m \u001b[49m\u001b[38;5;124;43m'\u001b[39;49m\u001b[38;5;124;43m'\u001b[39;49m\u001b[43m)\u001b[49m \u001b[38;5;28;01mas\u001b[39;00m data:                                                                                          \n\u001b[0;32m     46\u001b[0m     df \u001b[38;5;241m=\u001b[39m csv\u001b[38;5;241m.\u001b[39mreader(data, delimiter\u001b[38;5;241m=\u001b[39m\u001b[38;5;124m'\u001b[39m\u001b[38;5;130;01m\\t\u001b[39;00m\u001b[38;5;124m'\u001b[39m)\n\u001b[0;32m     47\u001b[0m     data \u001b[38;5;241m=\u001b[39m \u001b[38;5;28mlist\u001b[39m(df)\n",
      "\u001b[1;31mFileNotFoundError\u001b[0m: [Errno 2] No such file or directory: ''"
     ]
    }
   ],
   "source": [
    "filename = ''\n",
    "\n",
    "def crearMatriz(n,m):\n",
    "    matriz = []\n",
    "    for i in range(n):\n",
    "        a = [0]*m\n",
    "        matriz.append(a)\n",
    "    return matriz\n",
    "\n",
    "def calcMayor(data):\n",
    "    mayor = 0\n",
    "    for tupla in data:\n",
    "        if (int(tupla[0].strip()) > mayor):\n",
    "            mayor = int(tupla[0].strip())\n",
    "        if (int(tupla[1].strip()) > mayor):\n",
    "            mayor = int(tupla[2].strip())\n",
    "    return mayor\n",
    "\n",
    "root = tk.Tk()\n",
    "root.title('Generador de matriz')\n",
    "root.resizable(False, False)\n",
    "root.geometry('300x150')\n",
    "\n",
    "def select_file():\n",
    "    \n",
    "    filetypes = (\n",
    "        ('All files', '*.*'),\n",
    "        ('text files', '*.txt')\n",
    "    )\n",
    "    global filename\n",
    "    filename = fd.askopenfilename(\n",
    "        title='Abrir archivo',\n",
    "        initialdir='/',\n",
    "        filetypes=filetypes)\n",
    "\n",
    "open_button = ttk.Button(\n",
    "    root,\n",
    "    text='Abrir archivo',\n",
    "    command=select_file\n",
    ")\n",
    "\n",
    "open_button.pack(expand=True)\n",
    "root.mainloop()\n",
    "root.quit()\n",
    "    \n",
    "with open(filename, newline = '') as data:                                                                                          \n",
    "    df = csv.reader(data, delimiter='\\t')\n",
    "    data = list(df)\n",
    "    data.pop(0)\n",
    "n = calcMayor(data)\n",
    "matrix = crearMatriz(n,n)\n",
    "for tupla in data:\n",
    "    f = int(tupla[0].strip())\n",
    "    c = int(tupla[1].strip())\n",
    "    value = tupla[2].strip()\n",
    "    matrix[c-1][f-1] = value\n",
    "df = pd.DataFrame(matrix).T\n",
    "df.index += 1\n",
    "df.columns += 1\n",
    "name = os.path.basename(filename)\n",
    "name += '.xlsx'\n",
    "df.to_excel(excel_writer=name)"
   ]
  },
  {
   "cell_type": "code",
   "execution_count": 1,
   "id": "ed0842c9",
   "metadata": {},
   "outputs": [],
   "source": []
  },
  {
   "cell_type": "code",
   "execution_count": null,
   "id": "552dde4c",
   "metadata": {},
   "outputs": [],
   "source": []
  },
  {
   "cell_type": "code",
   "execution_count": null,
   "id": "e6d3aebd",
   "metadata": {},
   "outputs": [],
   "source": []
  },
  {
   "cell_type": "code",
   "execution_count": null,
   "id": "4d20fc4a",
   "metadata": {},
   "outputs": [],
   "source": []
  }
 ],
 "metadata": {
  "kernelspec": {
   "display_name": "Python 3 (ipykernel)",
   "language": "python",
   "name": "python3"
  },
  "language_info": {
   "codemirror_mode": {
    "name": "ipython",
    "version": 3
   },
   "file_extension": ".py",
   "mimetype": "text/x-python",
   "name": "python",
   "nbconvert_exporter": "python",
   "pygments_lexer": "ipython3",
   "version": "3.10.2"
  }
 },
 "nbformat": 4,
 "nbformat_minor": 5
}
