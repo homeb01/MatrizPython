{
 "cells": [
  {
   "cell_type": "code",
   "execution_count": 4,
   "id": "8516693e",
   "metadata": {},
   "outputs": [],
   "source": [
    "import csv\n",
    "import pandas as pd\n",
    "import tkinter as tk\n",
    "import os\n",
    "from tkinter import ttk\n",
    "from tkinter import filedialog as fd\n",
    "from tkinter.messagebox import showinfo"
   ]
  },
  {
   "cell_type": "code",
   "execution_count": null,
   "id": "b7c220cd",
   "metadata": {},
   "outputs": [],
   "source": []
  },
  {
   "cell_type": "code",
   "execution_count": null,
   "id": "e78bcd2b",
   "metadata": {},
   "outputs": [],
   "source": []
  },
  {
   "cell_type": "code",
   "execution_count": 7,
   "id": "60bf0002",
   "metadata": {},
   "outputs": [],
   "source": [
    "filename = ''\n",
    "\n",
    "def crearMatriz(n,m):\n",
    "    matriz = []\n",
    "    for i in range(n):\n",
    "        a = [0]*m\n",
    "        matriz.append(a)\n",
    "    return matriz\n",
    "\n",
    "def calcMayor(data):\n",
    "    mayor = 0\n",
    "    for tupla in data:\n",
    "        if (int(tupla[0].strip()) > mayor):\n",
    "            mayor = int(tupla[0].strip())\n",
    "        if (int(tupla[1].strip()) > mayor):\n",
    "            mayor = int(tupla[2].strip())\n",
    "    return mayor\n",
    "\n",
    "root = tk.Tk()\n",
    "root.title('Generador de matriz')\n",
    "root.resizable(False, False)\n",
    "root.geometry('300x150')\n",
    "\n",
    "def select_file():\n",
    "    \n",
    "    filetypes = (\n",
    "        ('All files', '*.*'),\n",
    "        ('text files', '*.txt')\n",
    "    )\n",
    "    global filename\n",
    "    filename = fd.askopenfilename(\n",
    "        title='Abrir archivo',\n",
    "        initialdir='/',\n",
    "        filetypes=filetypes)\n",
    "\n",
    "open_button = ttk.Button(\n",
    "    root,\n",
    "    text='Abrir archivo',\n",
    "    command=select_file\n",
    ")\n",
    "\n",
    "open_button.pack(expand=True)\n",
    "root.mainloop()\n",
    "root.quit()\n",
    "    \n",
    "with open(filename, newline = '') as data:                                                                                          \n",
    "    df = csv.reader(data, delimiter='\\t')\n",
    "    data = list(df)\n",
    "    data.pop(0)\n",
    "n = calcMayor(data)\n",
    "matrix = crearMatriz(n,n)\n",
    "for tupla in data:\n",
    "    f = int(tupla[0].strip())\n",
    "    c = int(tupla[1].strip())\n",
    "    value = tupla[2].strip()\n",
    "    if (value != '0.000000000000000E+000'):\n",
    "        matrix[c-1][f-1] = value\n",
    "        \n",
    "for i in range(n):\n",
    "    for j in range(n):\n",
    "        if (j > i):\n",
    "            matrix[j][i] = ''\n",
    "\n",
    "df = pd.DataFrame(matrix).T\n",
    "df.index += 1\n",
    "df.columns += 1\n",
    "name = os.path.basename(filename)\n",
    "name += '.xlsx'\n",
    "df.to_excel(excel_writer=name)"
   ]
  },
  {
   "cell_type": "code",
   "execution_count": 1,
   "id": "ed0842c9",
   "metadata": {},
   "outputs": [],
   "source": []
  },
  {
   "cell_type": "code",
   "execution_count": null,
   "id": "552dde4c",
   "metadata": {},
   "outputs": [],
   "source": []
  },
  {
   "cell_type": "code",
   "execution_count": null,
   "id": "e6d3aebd",
   "metadata": {},
   "outputs": [],
   "source": []
  },
  {
   "cell_type": "code",
   "execution_count": null,
   "id": "4d20fc4a",
   "metadata": {},
   "outputs": [],
   "source": []
  }
 ],
 "metadata": {
  "kernelspec": {
   "display_name": "Python 3 (ipykernel)",
   "language": "python",
   "name": "python3"
  },
  "language_info": {
   "codemirror_mode": {
    "name": "ipython",
    "version": 3
   },
   "file_extension": ".py",
   "mimetype": "text/x-python",
   "name": "python",
   "nbconvert_exporter": "python",
   "pygments_lexer": "ipython3",
   "version": "3.10.2"
  }
 },
 "nbformat": 4,
 "nbformat_minor": 5
}
